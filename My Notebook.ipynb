{
    "nbformat_minor": 1, 
    "cells": [
        {
            "source": "<img src=\"https://ibm.box.com/shared/static/cw2c7r3o20w9zn8gkecaeyjhgw3xdgbj.png\" width=\"200\" align=\"left\"><h1 align=\"center\"><font size=\"5\">Applied Data Science Capstone</font></h1>", 
            "cell_type": "markdown", 
            "metadata": {
                "collapsed": true
            }
        }, 
        {
            "source": "This notebook is intended for the final course in IBM Data Science Professional Certificate.", 
            "cell_type": "markdown", 
            "metadata": {}
        }, 
        {
            "source": "## Week 1 - Capstone Project Notebook", 
            "cell_type": "markdown", 
            "metadata": {}
        }, 
        {
            "source": "Assignment:\n\n1- Write some markdown to explain that this notebook will be mainly used for the capstone project.\n\n2- Import the pandas library as pd.\n\n3- Import the Numpy library as np.\n\n4- Print the following the statement: Hello Capstone Project Course!\n\nPush the Notebook to your Github repository and submit a link to the notebook on your Github repository.", 
            "cell_type": "markdown", 
            "metadata": {}
        }, 
        {
            "source": "# Import Required libraries\nimport numpy as np\nimport pandas as pd\n\nprint('Hello Capstone Project Course!')", 
            "cell_type": "code", 
            "metadata": {}, 
            "outputs": [
                {
                    "output_type": "stream", 
                    "name": "stdout", 
                    "text": "Hello Capstone Project Course!\n"
                }
            ], 
            "execution_count": 3
        }
    ], 
    "metadata": {
        "kernelspec": {
            "display_name": "Python 3.6", 
            "name": "python3", 
            "language": "python"
        }, 
        "language_info": {
            "mimetype": "text/x-python", 
            "nbconvert_exporter": "python", 
            "version": "3.6.8", 
            "name": "python", 
            "pygments_lexer": "ipython3", 
            "file_extension": ".py", 
            "codemirror_mode": {
                "version": 3, 
                "name": "ipython"
            }
        }
    }, 
    "nbformat": 4
}