{
 "cells": [
  {
   "cell_type": "markdown",
   "metadata": {},
   "source": [
    "<img src=\"https://ibm.box.com/shared/static/cw2c7r3o20w9zn8gkecaeyjhgw3xdgbj.png\" width=\"200\" align=\"left\"><img src=\"coursera.png\" width=\"100\" align=\"right\"><font size=\"6.5\"><h1 align=\"center\">Applied Data Science Capstone</font>"
   ]
  },
  {
   "cell_type": "markdown",
   "metadata": {},
   "source": [
    "<h3 align=\"center\"><font size=\"5\">This notebook is intended for the final course in IBM Data Science Professional Certificate.</font>\n",
    "<hr style=\"border: dashed rgb(0,0,0) 1.0px;background-color: rgb(0,0,255);height: 3.0px;\"/>"
   ]
  },
  {
   "cell_type": "markdown",
   "metadata": {},
   "source": [
    "## Week 3 - Peer-graded Assignment: Segmenting and Clustering Neighborhoods in Toronto"
   ]
  },
  {
   "cell_type": "markdown",
   "metadata": {},
   "source": [
    "### Table of Contents\n",
    "\n",
    "<div class=\"alert alert-block alert-info\" style=\"margin-top: 20px\">\n",
    "\n",
    "<font size = 3>\n",
    "\n",
    "<a href=\"#item0\"> 0- Add-ons Part - Publish on GitHub</a>\n",
    "\n",
    "<a href=\"#item1\"> 1- Part (1) - Build code to scrape Wikipedia page</a>\n",
    "\n",
    "<a href=\"#item2\"> 2- Part (2) - Build code to get the latitude and the longitude</a>\n",
    "\n",
    "<a href=\"#item3\"> 3- Part (3) - Explore and cluster the neighborhoods</a> \n",
    "</font>\n",
    "</div>"
   ]
  },
  {
   "cell_type": "markdown",
   "metadata": {},
   "source": [
    "<hr style=\"border: dashed rgb(0,0,0) 1.0px;background-color: rgb(0,0,0);height: 1.0px;\"/>"
   ]
  },
  {
   "cell_type": "markdown",
   "metadata": {},
   "source": [
    "<a id=\"item0\"></a>\n",
    "<h2 id=\"item0\">0- Add-ons Part - Publish on GitHub</h2>"
   ]
  },
  {
   "cell_type": "code",
   "execution_count": 11,
   "metadata": {},
   "outputs": [
    {
     "name": "stdout",
     "output_type": "stream",
     "text": [
      "pygithub available\n"
     ]
    }
   ],
   "source": [
    "# Clear the output\n",
    "from IPython.display import clear_output\n",
    "\n",
    "# Check Github\n",
    "try:\n",
    "    from github import Github\n",
    "    print ('pygithub available')\n",
    "except ImportError:\n",
    "    # installing folium\n",
    "    print ('Installing pygithub')\n",
    "    !conda install -c conda-forge pygithub\n",
    "    clear_output()\n",
    "    print ('pygithub Installed')"
   ]
  },
  {
   "cell_type": "code",
   "execution_count": 13,
   "metadata": {},
   "outputs": [],
   "source": [
    "# Import Required Libraries\n",
    "import os    \n",
    "import sys  \n",
    "import base64\n",
    "from github import Github\n",
    "from github import InputGitTreeElement"
   ]
  },
  {
   "cell_type": "code",
   "execution_count": 14,
   "metadata": {},
   "outputs": [],
   "source": [
    "# Read credentials from file\n",
    "GitHubFile = open(\"GitHub.txt\", \"r\")\n",
    "\n",
    "for GitHublines in GitHubFile:\n",
    "    if GitHublines.find(\"USER\") != -1:\n",
    "        GitUSER = str(GitHublines.replace(\"USER = \",\"\")).rstrip()\n",
    "    elif GitHublines.find(\"PASSWORD\") != -1:\n",
    "        GitPass = str(GitHublines.replace(\"PASSWORD = \",\"\")).rstrip()\n",
    "    elif GitHublines.find(\"REPO\") != -1:\n",
    "        GitRepo = str(GitHublines.replace(\"REPO = \",\"\")).rstrip()\n",
    "\n",
    "GitHubFile.close()"
   ]
  },
  {
   "cell_type": "markdown",
   "metadata": {},
   "source": [
    "#### Create a function to publish on Github"
   ]
  },
  {
   "cell_type": "code",
   "execution_count": 15,
   "metadata": {},
   "outputs": [],
   "source": [
    "def publishGitHub(filelist,filenames,msg):\n",
    "    #Connect to Github\n",
    "    g = Github(GitUSER,GitPass)\n",
    "    repo = g.get_user().get_repo(GitRepo)\n",
    "     \n",
    "    # File list to publish and publish names\n",
    "    file_list = filelist\n",
    "    file_names = filenames\n",
    "    commit_message = msg\n",
    "    master_ref = repo.get_git_ref('heads/master')\n",
    "    master_sha = master_ref.object.sha\n",
    "    base_tree = repo.get_git_tree(master_sha)\n",
    "    element_list = list()\n",
    "    # Loop in list\n",
    "    for i, entry in enumerate(file_list):\n",
    "        with open(entry) as input_file:\n",
    "            data = input_file.read()\n",
    "        if entry.endswith('.png'):\n",
    "            data = base64.b64encode(data)\n",
    "        element = InputGitTreeElement(file_names[i], '100644', 'blob', data)\n",
    "        element_list.append(element)\n",
    "    tree = repo.create_git_tree(element_list, base_tree)\n",
    "    parent = repo.get_git_commit(master_sha)\n",
    "    commit = repo.create_git_commit(commit_message, tree, [parent])\n",
    "    master_ref.edit(commit.sha)"
   ]
  },
  {
   "cell_type": "markdown",
   "metadata": {},
   "source": [
    "<hr style=\"border: dashed rgb(0,0,0) 1.0px;background-color: rgb(0,0,0);height: 1.0px;\"/>"
   ]
  },
  {
   "cell_type": "markdown",
   "metadata": {},
   "source": [
    "<a id=\"item1\"></a>\n",
    "<h2 id=\"item1\">1. Part (1) - Build code to scrape Wikipedia page, obtain the data in the table of postal codes and to transform the data into a pandas dataframe</h2>"
   ]
  },
  {
   "cell_type": "markdown",
   "metadata": {},
   "source": [
    "For this assignment, you will be required to explore and cluster the neighborhoods in Toronto.\n",
    "Start by creating a new Notebook for this assignment.\n",
    "Use the Notebook to build the code to scrape the following Wikipedia page, https://en.wikipedia.org/wiki/List_of_postal_codes_of_Canada:_M, in order to obtain the data that is in the table of postal codes and to transform the data into a pandas dataframe"
   ]
  },
  {
   "cell_type": "code",
   "execution_count": 16,
   "metadata": {},
   "outputs": [],
   "source": [
    "# import the library we use to open URLs\n",
    "import urllib.request\n",
    "\n",
    "# import the BeautifulSoup library so we can parse HTML and XML documents\n",
    "from bs4 import BeautifulSoup\n",
    "\n",
    "# import pandas\n",
    "import pandas as pd"
   ]
  },
  {
   "cell_type": "code",
   "execution_count": 17,
   "metadata": {},
   "outputs": [],
   "source": [
    "# specify which URL/web page we are going to be scraping\n",
    "url_wiki = \"https://en.wikipedia.org/wiki/List_of_postal_codes_of_Canada:_M\"\n",
    "# open the url using urllib.request and put the HTML into the page variable\n",
    "page_wiki = urllib.request.urlopen(url_wiki)\n",
    "# parse the HTML from our URL into the BeautifulSoup parse tree format\n",
    "bs_wiki = BeautifulSoup(page_wiki, \"lxml\")\n",
    "\n",
    "# use the 'find_all' function to bring back all instances of the 'table' tag in the HTML and store in 'all_tables' variable\n",
    "tables_wiki=bs_wiki.find_all(\"table\")"
   ]
  },
  {
   "cell_type": "code",
   "execution_count": 18,
   "metadata": {},
   "outputs": [
    {
     "name": "stdout",
     "output_type": "stream",
     "text": [
      "(211, 3)\n"
     ]
    }
   ],
   "source": [
    "# Get the Required table\n",
    "table_Pcodes=bs_wiki.find('table', class_='wikitable sortable')\n",
    "\n",
    "# Lists to hold data\n",
    "PostalCode=[]\n",
    "Borough=[]\n",
    "Neighborhood=[]\n",
    "\n",
    "# Loop & ignore Borough = 'Not assigned'\n",
    "for row in table_Pcodes.findAll('tr'):\n",
    "    cells=row.findAll('td')\n",
    "    if len(cells) > 0 :\n",
    "        # Only process the cells that have an assigned borough. Ignore cells with a borough that is Not assigned.\n",
    "        if cells[1].text.strip() != 'Not assigned':\n",
    "            PostalCode.append(cells[0].text.strip())\n",
    "            Borough.append(cells[1].text.strip())\n",
    "            # If a cell has a borough but a Not assigned neighborhood, then the neighborhood will be the same as the borough\n",
    "            if cells[2].text.strip() == 'Not assigned':\n",
    "                Neighborhood.append(cells[1].text.strip())\n",
    "            else:\n",
    "                Neighborhood.append(cells[2].text.strip())\n",
    "\n",
    "# Create dataframe to hold data        \n",
    "df_wiki=pd.DataFrame(PostalCode,columns=['PostalCode'])\n",
    "df_wiki['Borough']=Borough\n",
    "df_wiki['Neighborhood']=Neighborhood\n",
    "\n",
    "# show data shape\n",
    "print (df_wiki.shape)"
   ]
  },
  {
   "cell_type": "code",
   "execution_count": 19,
   "metadata": {},
   "outputs": [
    {
     "data": {
      "text/html": [
       "<div>\n",
       "<style scoped>\n",
       "    .dataframe tbody tr th:only-of-type {\n",
       "        vertical-align: middle;\n",
       "    }\n",
       "\n",
       "    .dataframe tbody tr th {\n",
       "        vertical-align: top;\n",
       "    }\n",
       "\n",
       "    .dataframe thead th {\n",
       "        text-align: right;\n",
       "    }\n",
       "</style>\n",
       "<table border=\"1\" class=\"dataframe\">\n",
       "  <thead>\n",
       "    <tr style=\"text-align: right;\">\n",
       "      <th></th>\n",
       "      <th>PostalCode</th>\n",
       "      <th>Borough</th>\n",
       "      <th>Neighborhood</th>\n",
       "    </tr>\n",
       "  </thead>\n",
       "  <tbody>\n",
       "    <tr>\n",
       "      <th>58</th>\n",
       "      <td>M5H</td>\n",
       "      <td>Downtown Toronto</td>\n",
       "      <td>Adelaide, King, Richmond</td>\n",
       "    </tr>\n",
       "    <tr>\n",
       "      <th>12</th>\n",
       "      <td>M1S</td>\n",
       "      <td>Scarborough</td>\n",
       "      <td>Agincourt</td>\n",
       "    </tr>\n",
       "    <tr>\n",
       "      <th>14</th>\n",
       "      <td>M1V</td>\n",
       "      <td>Scarborough</td>\n",
       "      <td>Agincourt North, L'Amoreaux East, Milliken, St...</td>\n",
       "    </tr>\n",
       "    <tr>\n",
       "      <th>101</th>\n",
       "      <td>M9V</td>\n",
       "      <td>Etobicoke</td>\n",
       "      <td>Albion Gardens, Beaumond Heights, Humbergate, ...</td>\n",
       "    </tr>\n",
       "    <tr>\n",
       "      <th>89</th>\n",
       "      <td>M8W</td>\n",
       "      <td>Etobicoke</td>\n",
       "      <td>Alderwood, Long Branch</td>\n",
       "    </tr>\n",
       "    <tr>\n",
       "      <th>28</th>\n",
       "      <td>M3H</td>\n",
       "      <td>North York</td>\n",
       "      <td>Bathurst Manor, Downsview North, Wilson Heights</td>\n",
       "    </tr>\n",
       "    <tr>\n",
       "      <th>19</th>\n",
       "      <td>M2K</td>\n",
       "      <td>North York</td>\n",
       "      <td>Bayview Village</td>\n",
       "    </tr>\n",
       "    <tr>\n",
       "      <th>62</th>\n",
       "      <td>M5M</td>\n",
       "      <td>North York</td>\n",
       "      <td>Bedford Park, Lawrence Manor East</td>\n",
       "    </tr>\n",
       "    <tr>\n",
       "      <th>56</th>\n",
       "      <td>M5E</td>\n",
       "      <td>Downtown Toronto</td>\n",
       "      <td>Berczy Park</td>\n",
       "    </tr>\n",
       "    <tr>\n",
       "      <th>9</th>\n",
       "      <td>M1N</td>\n",
       "      <td>Scarborough</td>\n",
       "      <td>Birch Cliff, Cliffside West</td>\n",
       "    </tr>\n",
       "  </tbody>\n",
       "</table>\n",
       "</div>"
      ],
      "text/plain": [
       "    PostalCode           Borough  \\\n",
       "58         M5H  Downtown Toronto   \n",
       "12         M1S       Scarborough   \n",
       "14         M1V       Scarborough   \n",
       "101        M9V         Etobicoke   \n",
       "89         M8W         Etobicoke   \n",
       "28         M3H        North York   \n",
       "19         M2K        North York   \n",
       "62         M5M        North York   \n",
       "56         M5E  Downtown Toronto   \n",
       "9          M1N       Scarborough   \n",
       "\n",
       "                                          Neighborhood  \n",
       "58                            Adelaide, King, Richmond  \n",
       "12                                           Agincourt  \n",
       "14   Agincourt North, L'Amoreaux East, Milliken, St...  \n",
       "101  Albion Gardens, Beaumond Heights, Humbergate, ...  \n",
       "89                              Alderwood, Long Branch  \n",
       "28     Bathurst Manor, Downsview North, Wilson Heights  \n",
       "19                                     Bayview Village  \n",
       "62                   Bedford Park, Lawrence Manor East  \n",
       "56                                         Berczy Park  \n",
       "9                          Birch Cliff, Cliffside West  "
      ]
     },
     "execution_count": 19,
     "metadata": {},
     "output_type": "execute_result"
    }
   ],
   "source": [
    "# Group Values based on the Postal Code\n",
    "df_Pcodes = df_wiki.groupby(['PostalCode','Borough'])['Neighborhood'].apply(', '.join).reset_index()\n",
    "df_Pcodes = df_Pcodes.sort_values(by ='Neighborhood' )\n",
    "df_Pcodes.head(10)"
   ]
  },
  {
   "cell_type": "code",
   "execution_count": 20,
   "metadata": {},
   "outputs": [
    {
     "name": "stdout",
     "output_type": "stream",
     "text": [
      "(103, 3)\n"
     ]
    }
   ],
   "source": [
    "# show data shape\n",
    "print (df_Pcodes.shape)"
   ]
  },
  {
   "cell_type": "markdown",
   "metadata": {},
   "source": [
    "#### Display Results same as required in submission"
   ]
  },
  {
   "cell_type": "code",
   "execution_count": null,
   "metadata": {},
   "outputs": [],
   "source": [
    "# create a new dataframe\n",
    "column_names = [\"PostalCode\", \"Borough\", \"Neighborhood\"]\n",
    "df_forDisplay = pd.DataFrame(columns=column_names)\n",
    "\n",
    "# Displayed list in assignment\n",
    "Pcodes_list = [\"M5G\", \"M2H\", \"M4B\", \"M1J\", \"M4G\", \"M4M\", \"M1R\", \"M9V\", \"M9L\", \"M5V\", \"M1B\", \"M5A\"]\n",
    "for postcode in Pcodes_list:\n",
    "    df_forDisplay = df_forDisplay.append(df_Pcodes[df_Pcodes[\"PostalCode\"]==postcode], ignore_index=True)\n",
    "    \n",
    "df_forDisplay"
   ]
  },
  {
   "cell_type": "code",
   "execution_count": null,
   "metadata": {},
   "outputs": [],
   "source": [
    "# Publish Part 1 on GitHub\n",
    "filelist = ['CT-Week3-14July.ipynb']\n",
    "filenames = ['CT-Week3-Part1.ipynb']\n",
    "msg='Capstone Week(3) - Part(1)'\n",
    "publishGitHub(filelist,filenames,msg)"
   ]
  },
  {
   "cell_type": "markdown",
   "metadata": {},
   "source": [
    "<hr style=\"border: dashed rgb(0,0,0) 1.0px;background-color: rgb(0,0,0);height: 1.0px;\"/>"
   ]
  },
  {
   "cell_type": "markdown",
   "metadata": {},
   "source": [
    "<a id=\"item2\"></a>\n",
    "<h2 id=\"item2\">2. Part (2) - Build code to get the latitude and the longitude coordinates of each neighborhood</h2>"
   ]
  },
  {
   "cell_type": "markdown",
   "metadata": {},
   "source": [
    "#### Option (1) : Using ArcGIS Geocoder rather than Google"
   ]
  },
  {
   "cell_type": "markdown",
   "metadata": {},
   "source": [
    "Now that you have built a dataframe of the postal code of each neighborhood along with the borough name and neighborhood name, in order to utilize the Foursquare location data, we need to get the latitude and the longitude coordinates of each neighborhood. "
   ]
  },
  {
   "cell_type": "code",
   "execution_count": null,
   "metadata": {},
   "outputs": [],
   "source": [
    "# Check geocoder\n",
    "try:\n",
    "    import pgeocode\n",
    "    print ('Postal Geocoder available')\n",
    "except ImportError:\n",
    "    # installing geocoder\n",
    "    print ('Installing Postal Geocoder')\n",
    "    !pip install geocoder\n",
    "    clear_output()\n",
    "    print ('Postal Geocoder Installed')"
   ]
  },
  {
   "cell_type": "code",
   "execution_count": null,
   "metadata": {},
   "outputs": [],
   "source": [
    "import geocoder # convert an address into latitude and longitude values"
   ]
  },
  {
   "cell_type": "code",
   "execution_count": null,
   "metadata": {},
   "outputs": [],
   "source": [
    "# Lists to hold data\n",
    "Latitude=[]\n",
    "Longitude=[]\n",
    "\n",
    "# Loop & Get coord for postal codes using ArcGIS Geocoder\n",
    "for i in range(0,len(df_Pcodes)):\n",
    "    address = df_Pcodes['PostalCode'].iloc[i] + ', canada'\n",
    "    g= geocoder.arcgis(address)\n",
    "    Latitude.append(g.lat)\n",
    "    Longitude.append(g.lng)\n",
    "    \n",
    "# Create new dataframe to hold coord\n",
    "df_Coords=df_Pcodes.copy()\n",
    "df_Coords['Latitude']=Latitude\n",
    "df_Coords['Longitude']=Longitude\n",
    "\n",
    "df_Coords.head(10)"
   ]
  },
  {
   "cell_type": "code",
   "execution_count": null,
   "metadata": {},
   "outputs": [],
   "source": [
    "# show data shape\n",
    "print (df_Coords.shape)"
   ]
  },
  {
   "cell_type": "markdown",
   "metadata": {},
   "source": [
    "#### Alternative option (Note: Reading from file as geocoder failed)"
   ]
  },
  {
   "cell_type": "markdown",
   "metadata": {},
   "source": [
    "Given that this package can be very unreliable, in case you are not able to get the geographical coordinates of the neighborhoods using the Geocoder package, here is a link to a csv file that has the geographical coordinates of each postal code: http://cocl.us/Geospatial_data"
   ]
  },
  {
   "cell_type": "code",
   "execution_count": null,
   "metadata": {},
   "outputs": [],
   "source": [
    "# Lets download the dataset (-q )\n",
    "!wget -q -O Geospatial_Coordinates.csv https://cocl.us/Geospatial_data/Geospatial_Coordinates.csv\n",
    "print('Data downloaded!')\n",
    "\n",
    "# Load Data From CSV File  \n",
    "df_csv = pd.read_csv('Geospatial_Coordinates.csv')\n",
    "df_csv.head()"
   ]
  },
  {
   "cell_type": "code",
   "execution_count": null,
   "metadata": {},
   "outputs": [],
   "source": [
    "# Get the Long & Lat from the csv file and append it to main dataframe\n",
    "df_final = pd.merge(df_Pcodes, df_csv, how='inner', left_on = 'PostalCode', right_on = 'Postal Code')\n",
    "\n",
    "df_final.drop(['Postal Code'], axis = 1,inplace=True)\n",
    "df_final.head(10)"
   ]
  },
  {
   "cell_type": "markdown",
   "metadata": {},
   "source": [
    "#### Display Results same as required in submission"
   ]
  },
  {
   "cell_type": "code",
   "execution_count": null,
   "metadata": {},
   "outputs": [],
   "source": [
    "# create a new dataframe\n",
    "column_names = [\"PostalCode\", \"Borough\", \"Neighborhood\"]\n",
    "df_forDisplay = pd.DataFrame(columns=column_names)\n",
    "\n",
    "# Displayed list in assignment\n",
    "Pcodes_list = [\"M5G\", \"M2H\", \"M4B\", \"M1J\", \"M4G\", \"M4M\", \"M1R\", \"M9V\", \"M9L\", \"M5V\", \"M1B\", \"M5A\"]\n",
    "for postcode in Pcodes_list:\n",
    "    df_forDisplay = df_forDisplay.append(df_final[df_final[\"PostalCode\"]==postcode], ignore_index=True,sort=False)\n",
    "    \n",
    "df_forDisplay"
   ]
  },
  {
   "cell_type": "code",
   "execution_count": null,
   "metadata": {},
   "outputs": [],
   "source": [
    "# show data shape\n",
    "print (df_final.shape)"
   ]
  },
  {
   "cell_type": "code",
   "execution_count": null,
   "metadata": {},
   "outputs": [],
   "source": [
    "# Publish Part 2 on GitHub\n",
    "filelist = ['CT-Week3-14July.ipynb']\n",
    "filenames = ['CT-Week3-Part2.ipynb']\n",
    "msg='Capstone Week(3) - Part(2)'\n",
    "publishGitHub(filelist,filenames,msg)"
   ]
  },
  {
   "cell_type": "markdown",
   "metadata": {},
   "source": [
    "<hr style=\"border: dashed rgb(0,0,0) 1.0px;background-color: rgb(0,0,0);height: 1.0px;\"/>"
   ]
  },
  {
   "cell_type": "markdown",
   "metadata": {},
   "source": [
    "<a id=\"item3\"></a>\n",
    "<h2 id=\"item3\">3. Part (3) - Explore and cluster the neighborhoods in Toronto</h2>"
   ]
  },
  {
   "cell_type": "markdown",
   "metadata": {},
   "source": [
    "Explore and cluster the neighborhoods in Toronto. You can decide to work with only boroughs that contain the word Toronto and then replicate the same analysis we did to the New York City data. It is up to you. \n",
    "Just make sure:\n",
    "\n",
    "1- to add enough Markdown cells to explain what you decided to do and to report any observations you make. \n",
    "\n",
    "2- to generate maps to visualize your neighborhoods and how they cluster together. "
   ]
  },
  {
   "cell_type": "code",
   "execution_count": null,
   "metadata": {},
   "outputs": [],
   "source": [
    "# Checking for Required Packages availability\n",
    "\n",
    "# Check folium\n",
    "try:\n",
    "    import folium\n",
    "    print ('folium available')\n",
    "except ImportError:\n",
    "    # installing folium\n",
    "    print ('Installing folium')\n",
    "    !conda install -c conda-forge folium=0.5.0 --yes\n",
    "    !pip install folium\n",
    "    clear_output()\n",
    "    print ('folium Installed')\n",
    "\n",
    "# Check Esri GIS\n",
    "try:\n",
    "    import GIS\n",
    "    print ('Esri GIS available')\n",
    "except ImportError:\n",
    "    # installing Esri GIS\n",
    "    print ('Installing Esri GIS')\n",
    "    !conda install -c esri arcgis --yes\n",
    "    clear_output()\n",
    "    print ('Esri GIS Installed')"
   ]
  },
  {
   "cell_type": "code",
   "execution_count": null,
   "metadata": {},
   "outputs": [],
   "source": [
    "# import required libraries\n",
    "from IPython.display import display\n",
    "from IPython.display import HTML\n",
    "from IPython.display import IFrame\n",
    "\n",
    "# import Esri\n",
    "import arcgis\n",
    "import widgetsnbextension\n",
    "import ipywidgets\n",
    "from arcgis.gis import GIS\n",
    "\n",
    "# import folium\n",
    "import folium"
   ]
  },
  {
   "cell_type": "markdown",
   "metadata": {},
   "source": [
    "#### Create a function to search venues to all the neighborhoods"
   ]
  },
  {
   "cell_type": "code",
   "execution_count": null,
   "metadata": {},
   "outputs": [],
   "source": [
    "# create a function to search venues to all the neighborhoods\n",
    "def getNearbyVenues(names, latitudes, longitudes, radius=500):\n",
    "    venues_list=[]\n",
    "    for name, lat, lng in zip(names, latitudes, longitudes):\n",
    "        print(name)\n",
    "        # create the API request URL\n",
    "        url = 'https://api.foursquare.com/v2/venues/explore?&client_id={}&client_secret={}&v={}&ll={},{}&radius={}&limit={}'.format(\n",
    "            CLIENT_ID, \n",
    "            CLIENT_SECRET, \n",
    "            VERSION, \n",
    "            lat, \n",
    "            lng, \n",
    "            radius, \n",
    "            LIMIT)\n",
    "        # make the GET request\n",
    "        results = requests.get(url).json()[\"response\"]['groups'][0]['items']\n",
    "        # return only relevant information for each nearby venue\n",
    "        venues_list.append([(\n",
    "            name, \n",
    "            lat, \n",
    "            lng, \n",
    "            v['venue']['name'], \n",
    "            v['venue']['location']['lat'], \n",
    "            v['venue']['location']['lng'],  \n",
    "            v['venue']['categories'][0]['name']) for v in results])\n",
    "\n",
    "    nearby_venues = pd.DataFrame([item for venue_list in venues_list for item in venue_list])\n",
    "    nearby_venues.columns = ['Neighborhood', \n",
    "                  'Neighborhood Latitude', \n",
    "                  'Neighborhood Longitude', \n",
    "                  'Venue', \n",
    "                  'Venue Latitude', \n",
    "                  'Venue Longitude', \n",
    "                  'Venue Category']\n",
    "    \n",
    "    return(nearby_venues)"
   ]
  },
  {
   "cell_type": "markdown",
   "metadata": {},
   "source": [
    "#### function to sort the venues in descending order"
   ]
  },
  {
   "cell_type": "code",
   "execution_count": null,
   "metadata": {},
   "outputs": [],
   "source": [
    "def return_most_common_venues(row, num_top_venues):\n",
    "    row_categories = row.iloc[1:]\n",
    "    row_categories_sorted = row_categories.sort_values(ascending=False)\n",
    "    \n",
    "    return row_categories_sorted.index.values[0:num_top_venues]"
   ]
  },
  {
   "cell_type": "markdown",
   "metadata": {},
   "source": [
    "#### Display Toronto Map with neighborhoods"
   ]
  },
  {
   "cell_type": "code",
   "execution_count": null,
   "metadata": {},
   "outputs": [],
   "source": [
    "# Get the Coord of Toronto\n",
    "g= geocoder.arcgis('Toronto, Canada')\n",
    "\n",
    "# create map of Toronto using latitude and longitude values\n",
    "map_toronto = folium.Map(location=[g.lat, g.lng], zoom_start=10)\n",
    "# Save it as html\n",
    "map_toronto.save('Toronto.html')\n",
    "\n",
    "# Optional:: Display Map\n",
    "# display(map_toronto)"
   ]
  },
  {
   "cell_type": "code",
   "execution_count": null,
   "metadata": {},
   "outputs": [],
   "source": [
    "# Get the Coord of Toronto\n",
    "g= geocoder.arcgis('Toronto, Canada')\n",
    "\n",
    "# create map of Toronto using latitude and longitude values\n",
    "map_toronto = folium.Map(location=[g.lat, g.lng], zoom_start=10)\n",
    "\n",
    "# add markers to the map\n",
    "for lat, lng, label in zip(df_final['Latitude'], df_final['Longitude'], df_final['Neighborhood']):\n",
    "    label = folium.Popup(label, parse_html=True)\n",
    "    folium.CircleMarker(\n",
    "        [lat, lng],\n",
    "        radius=4,\n",
    "        popup=label,\n",
    "        color='blue',\n",
    "        fill=True,\n",
    "        fill_color='#3186cc',\n",
    "        fill_opacity=0.7,\n",
    "        parse_html=False).add_to(map_toronto)\n",
    "\n",
    "# Save it as html\n",
    "map_toronto.save('Neighborhood_Toronto.html')\n",
    "\n",
    "# Optional:: Display Map\n",
    "# display(map_toronto)"
   ]
  },
  {
   "cell_type": "markdown",
   "metadata": {},
   "source": [
    "#### Filter only boroughs that contain the word Toronto"
   ]
  },
  {
   "cell_type": "code",
   "execution_count": null,
   "metadata": {},
   "outputs": [],
   "source": [
    "# Select subset of the data frmae\n",
    "df_simplified=df_final.copy()\n",
    "df_toronto = df_simplified[df_simplified['Borough'].str.contains('Toronto')]\n",
    "df_toronto.shape\n",
    "\n",
    "# create map of Toronto using latitude and longitude values\n",
    "map_toronto = folium.Map(location=[g.lat, g.lng], zoom_start=11)\n",
    "\n",
    "# add markers to map\n",
    "for lat, lng, label in zip(df_toronto['Latitude'], df_toronto['Longitude'], df_toronto['Neighborhood']):\n",
    "    label = folium.Popup(label, parse_html=True)\n",
    "    folium.CircleMarker(\n",
    "        [lat, lng],\n",
    "        radius=5,\n",
    "        popup=label,\n",
    "        color='blue',\n",
    "        fill=True,\n",
    "        fill_color='#3186cc',\n",
    "        fill_opacity=0.7,\n",
    "        parse_html=False).add_to(map_toronto)\n",
    "\n",
    "# Save it as html\n",
    "map_toronto.save('Neighborhood_Toronto_Simplified.html')\n",
    "\n",
    "# Optional:: Display Map\n",
    "# display(map_toronto)"
   ]
  },
  {
   "cell_type": "markdown",
   "metadata": {},
   "source": [
    "#### Display Resulted Maps"
   ]
  },
  {
   "cell_type": "code",
   "execution_count": null,
   "metadata": {},
   "outputs": [],
   "source": [
    "%%html\n",
    "<iframe src=\"Neighborhood_Toronto.html\"width=\"475\" height=\"350\"></iframe><iframe src=\"Neighborhood_Toronto_Simplified.html\" \n",
    "width=\"475\" height=\"350\"></iframe>"
   ]
  },
  {
   "cell_type": "markdown",
   "metadata": {},
   "source": [
    "#### Start using Foursquare API to explore the neighborhoods"
   ]
  },
  {
   "cell_type": "code",
   "execution_count": null,
   "metadata": {},
   "outputs": [],
   "source": [
    "# Read credentials from file\n",
    "FourSqrFile = open(\"Foursquare.txt\", \"r\")\n",
    "\n",
    "for FourSqrlines in FourSqrFile:\n",
    "    if FourSqrlines.find(\"CLIENT_ID\") != -1:\n",
    "        CLIENT_ID = str(FourSqrlines.replace(\"CLIENT_ID = \",\"\")).rstrip()\n",
    "    elif FourSqrlines.find(\"CLIENT_SECRET\") != -1:\n",
    "        CLIENT_SECRET = str(FourSqrlines.replace(\"CLIENT_SECRET = \",\"\")).rstrip()\n",
    "    elif FourSqrlines.find(\"VERSION\") != -1:\n",
    "        VERSION = str(FourSqrlines.replace(\"VERSION = \",\"\")).rstrip()\n",
    "\n",
    "FourSqrFile.close()\n",
    "\n",
    "# Set Limit Value\n",
    "LIMIT = 100"
   ]
  },
  {
   "cell_type": "code",
   "execution_count": null,
   "metadata": {},
   "outputs": [],
   "source": [
    "# let's get the venues that are within a radius of 500 meters.\n",
    "df_venues = getNearbyVenues(names=df_toronto['Neighborhood'],\n",
    "                                   latitudes=df_toronto['Latitude'],\n",
    "                                   longitudes=df_toronto['Longitude']\n",
    "                                  )\n",
    "\n",
    "# check the size of the resulting dataframe\n",
    "print(df_venues.shape)\n",
    "df_venues.head()\n",
    "\n",
    "# check how many venues were returned for each neighborhood\n",
    "df_venues.groupby('Neighborhood').count()\n",
    "\n",
    "# find out how many unique categories can be curated from all the returned venues\n",
    "print('There are {} uniques categories.'.format(len(df_venues['Venue Category'].unique())))"
   ]
  },
  {
   "cell_type": "markdown",
   "metadata": {},
   "source": [
    "#### Analyze Each Neighborhood"
   ]
  },
  {
   "cell_type": "code",
   "execution_count": null,
   "metadata": {},
   "outputs": [],
   "source": [
    "# one hot encoding\n",
    "toronto_onehot = pd.get_dummies(df_venues[['Venue Category']], prefix=\"\", prefix_sep=\"\")\n",
    "\n",
    "# add neighborhood column back to dataframe\n",
    "toronto_onehot['Neighborhood'] = df_venues['Neighborhood'] \n",
    "\n",
    "# move neighborhood column to the first column\n",
    "fixed_columns = [toronto_onehot.columns[-1]] + list(toronto_onehot.columns[:-1])\n",
    "toronto_onehot = toronto_onehot[fixed_columns]\n",
    "\n",
    "# check the size of the resulting dataframe\n",
    "print(toronto_onehot.shape)\n",
    "toronto_onehot.head()"
   ]
  },
  {
   "cell_type": "markdown",
   "metadata": {},
   "source": [
    "#### Next, let's group rows by neighborhood and by taking the mean of the frequency of occurrence of each category"
   ]
  },
  {
   "cell_type": "code",
   "execution_count": null,
   "metadata": {},
   "outputs": [],
   "source": [
    "toronto_grouped = toronto_onehot.groupby('Neighborhood').mean().reset_index()\n",
    "toronto_grouped"
   ]
  },
  {
   "cell_type": "markdown",
   "metadata": {},
   "source": [
    "Let's confirm the new size & print each neighborhood along with the top 20 most common venues"
   ]
  },
  {
   "cell_type": "code",
   "execution_count": null,
   "metadata": {},
   "outputs": [],
   "source": [
    "num_top_venues = 20\n",
    "\n",
    "indicators = ['st', 'nd', 'rd']\n",
    "\n",
    "# create columns according to number of top venues\n",
    "columns = ['Neighborhood']\n",
    "for ind in np.arange(num_top_venues):\n",
    "    try:\n",
    "        columns.append('{}{} Most Common Venue'.format(ind+1, indicators[ind]))\n",
    "    except:\n",
    "        columns.append('{}th Most Common Venue'.format(ind+1))\n",
    "\n",
    "# create a new dataframe\n",
    "neighborhoods_venues_sorted = pd.DataFrame(columns=columns)\n",
    "neighborhoods_venues_sorted['Neighborhood'] = toronto_grouped['Neighborhood']\n",
    "\n",
    "for ind in np.arange(toronto_grouped.shape[0]):\n",
    "    neighborhoods_venues_sorted.iloc[ind, 1:] = return_most_common_venues(toronto_grouped.iloc[ind, :], num_top_venues)\n",
    "\n",
    "neighborhoods_venues_sorted.head()"
   ]
  },
  {
   "cell_type": "markdown",
   "metadata": {},
   "source": [
    "#### Cluster Neighborhoods"
   ]
  },
  {
   "cell_type": "code",
   "execution_count": null,
   "metadata": {},
   "outputs": [],
   "source": [
    "# Run k-means to cluster the neighborhood into 5 clusters.\n",
    "\n",
    "# set number of clusters\n",
    "kclusters = 5\n",
    "\n",
    "toronto_grouped_clustering = toronto_grouped.drop('Neighborhood', 1)\n",
    "\n",
    "# run k-means clustering\n",
    "kmeans = KMeans(n_clusters=kclusters, random_state=0).fit(toronto_grouped_clustering)\n",
    "\n",
    "# check cluster labels generated for each row in the dataframe\n",
    "kmeans.labels_[0:10] "
   ]
  },
  {
   "cell_type": "markdown",
   "metadata": {},
   "source": [
    "Let's create a new dataframe that includes the cluster as well as the top 20 venues for each neighborhood."
   ]
  },
  {
   "cell_type": "code",
   "execution_count": null,
   "metadata": {},
   "outputs": [],
   "source": [
    "# add clustering labels\n",
    "neighborhoods_venues_sorted.insert(0, 'Cluster Labels', kmeans.labels_)\n",
    "\n",
    "toronto_merged = df_toronto\n",
    "\n",
    "# merge toronto_grouped with toronto_data to add latitude/longitude for each neighborhood\n",
    "toronto_merged = toronto_merged.join(neighborhoods_venues_sorted.set_index('Neighborhood'), on='Neighborhood')\n",
    "\n",
    "toronto_merged.head() # check the last columns!"
   ]
  },
  {
   "cell_type": "markdown",
   "metadata": {},
   "source": [
    "Finally, let's visualize the resulting clusters"
   ]
  },
  {
   "cell_type": "code",
   "execution_count": null,
   "metadata": {},
   "outputs": [],
   "source": [
    "# create map\n",
    "map_clusters = folium.Map(location=[latitude, longitude], zoom_start=11)\n",
    "\n",
    "# set color scheme for the clusters\n",
    "x = np.arange(kclusters)\n",
    "ys = [i + x + (i*x)**2 for i in range(kclusters)]\n",
    "colors_array = cm.rainbow(np.linspace(0, 1, len(ys)))\n",
    "rainbow = [colors.rgb2hex(i) for i in colors_array]\n",
    "\n",
    "# add markers to the map\n",
    "markers_colors = []\n",
    "\n",
    "# add markers to map      \n",
    "for lat, lon, poi, cluster in zip(toronto_merged['Latitude'], toronto_merged['Longitude'], toronto_merged['Neighborhood'], toronto_merged['Cluster Labels']):\n",
    "    label = folium.Popup(str(poi) + ' Cluster ' + str(cluster), parse_html=True)\n",
    "    folium.CircleMarker(\n",
    "        [lat, lon],\n",
    "        radius=5,\n",
    "        popup=label,\n",
    "        color=rainbow[cluster-1],\n",
    "        fill=True,\n",
    "        fill_color=rainbow[cluster-1],\n",
    "        fill_opacity=0.7).add_to(map_clusters)\n",
    "       \n",
    "map_clusters"
   ]
  },
  {
   "cell_type": "markdown",
   "metadata": {},
   "source": [
    "#### Examine Clusters"
   ]
  },
  {
   "cell_type": "markdown",
   "metadata": {},
   "source": [
    "Cluster 1"
   ]
  },
  {
   "cell_type": "code",
   "execution_count": null,
   "metadata": {},
   "outputs": [],
   "source": [
    "toronto_merged.loc[toronto_merged['Cluster Labels'] == 0, toronto_merged.columns[[1] + list(range(5, toronto_merged.shape[1]))]]"
   ]
  },
  {
   "cell_type": "markdown",
   "metadata": {},
   "source": [
    "Cluster 2"
   ]
  },
  {
   "cell_type": "code",
   "execution_count": null,
   "metadata": {},
   "outputs": [],
   "source": [
    "toronto_merged.loc[toronto_merged['Cluster Labels'] == 1, toronto_merged.columns[[1] + list(range(5, toronto_merged.shape[1]))]]"
   ]
  },
  {
   "cell_type": "markdown",
   "metadata": {},
   "source": [
    "Cluster 3"
   ]
  },
  {
   "cell_type": "code",
   "execution_count": null,
   "metadata": {},
   "outputs": [],
   "source": [
    "toronto_merged.loc[toronto_merged['Cluster Labels'] == 2, toronto_merged.columns[[1] + list(range(5, toronto_merged.shape[1]))]]"
   ]
  },
  {
   "cell_type": "markdown",
   "metadata": {},
   "source": [
    "Cluster 4"
   ]
  },
  {
   "cell_type": "code",
   "execution_count": null,
   "metadata": {},
   "outputs": [],
   "source": [
    "toronto_merged.loc[toronto_merged['Cluster Labels'] == 3, toronto_merged.columns[[1] + list(range(5, toronto_merged.shape[1]))]]"
   ]
  },
  {
   "cell_type": "markdown",
   "metadata": {},
   "source": [
    "Cluster 5"
   ]
  },
  {
   "cell_type": "code",
   "execution_count": null,
   "metadata": {},
   "outputs": [],
   "source": [
    "toronto_merged.loc[toronto_merged['Cluster Labels'] == 4, toronto_merged.columns[[1] + list(range(5, toronto_merged.shape[1]))]]"
   ]
  },
  {
   "cell_type": "markdown",
   "metadata": {},
   "source": [
    "#### Observation"
   ]
  },
  {
   "cell_type": "markdown",
   "metadata": {},
   "source": [
    "xxxxxxxxxxxxxxxxxxxxxxxx"
   ]
  },
  {
   "cell_type": "code",
   "execution_count": null,
   "metadata": {},
   "outputs": [],
   "source": [
    "# Publish Part 3 on GitHub\n",
    "filelist = ['CT-Week3-14July.ipynb']\n",
    "filenames = ['CT-Week3-Part3.ipynb']\n",
    "msg='Capstone Week(3) - Part(3)'\n",
    "publishGitHub(filelist,filenames,msg)"
   ]
  },
  {
   "cell_type": "markdown",
   "metadata": {},
   "source": [
    "<hr>\n",
    "\n",
    "Copyright &copy; Ahmed Reda 2019."
   ]
  }
 ],
 "metadata": {
  "kernelspec": {
   "display_name": "Python 3",
   "language": "python",
   "name": "python3"
  },
  "language_info": {
   "codemirror_mode": {
    "name": "ipython",
    "version": 3
   },
   "file_extension": ".py",
   "mimetype": "text/x-python",
   "name": "python",
   "nbconvert_exporter": "python",
   "pygments_lexer": "ipython3",
   "version": "3.7.3"
  }
 },
 "nbformat": 4,
 "nbformat_minor": 4
}
