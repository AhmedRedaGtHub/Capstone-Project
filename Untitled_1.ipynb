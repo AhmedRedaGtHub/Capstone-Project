{
 "cells": [
  {
   "cell_type": "code",
   "execution_count": null,
   "metadata": {},
   "outputs": [],
   "source": [
    "conda list"
   ]
  },
  {
   "cell_type": "code",
   "execution_count": null,
   "metadata": {},
   "outputs": [],
   "source": [
    "conda install -c conda-forge pygithub"
   ]
  },
  {
   "cell_type": "markdown",
   "metadata": {},
   "source": [
    "## Required Functions for Github Publishing"
   ]
  },
  {
   "cell_type": "code",
   "execution_count": null,
   "metadata": {},
   "outputs": [],
   "source": [
    "# Clear the output\n",
    "from IPython.display import clear_output\n",
    "\n",
    "# Check Github\n",
    "try:\n",
    "    from github import Github\n",
    "    print ('pygithub available')\n",
    "except ImportError:\n",
    "    # installing folium\n",
    "    print ('Installing pygithub')\n",
    "    !conda install -c conda-forge pygithub\n",
    "    clear_output()\n",
    "    print ('pygithub Installed')"
   ]
  },
  {
   "cell_type": "code",
   "execution_count": null,
   "metadata": {},
   "outputs": [],
   "source": [
    "# Import Required Libraries\n",
    "import os    \n",
    "import sys  \n",
    "import base64\n",
    "from github import Github\n",
    "from github import InputGitTreeElement"
   ]
  },
  {
   "cell_type": "code",
   "execution_count": 11,
   "metadata": {},
   "outputs": [],
   "source": [
    "# Read credentials from file\n",
    "GitHubFile = open(\"GitHub.txt\", \"r\")\n",
    "\n",
    "for GitHublines in GitHubFile:\n",
    "    if GitHublines.find(\"USER\") != -1:\n",
    "        GitUSER = GitHublines.replace(\"USER = \",\"\")\n",
    "    elif GitHublines.find(\"PASSWORD\") != -1:\n",
    "        GitPass = GitHublines.replace(\"PASSWORD = \",\"\")\n",
    "    elif GitHublines.find(\"REPO\") != -1:\n",
    "        GitRepo = GitHublines.replace(\"REPO = \",\"\")\n",
    "\n",
    "GitHubFile.close()"
   ]
  },
  {
   "cell_type": "markdown",
   "metadata": {},
   "source": [
    "#### Create a function to publish on Github"
   ]
  },
  {
   "cell_type": "code",
   "execution_count": 39,
   "metadata": {},
   "outputs": [],
   "source": [
    "def publishGitHub(filelist,filenames,msg):\n",
    "    #Connect to Github\n",
    "    g = Github(\"AhmedRedaGtHub\",\"Areda@Github2020\")\n",
    "    repo = g.get_user().get_repo(\"Capstone-Project\")\n",
    "     \n",
    "    # File list to publish and publish names\n",
    "    file_list = filelist #['Untitled.ipynb']\n",
    "    file_names = filenames #['Untitled.ipynb']\n",
    "    commit_message = msg\n",
    "    master_ref = repo.get_git_ref('heads/master')\n",
    "    master_sha = master_ref.object.sha\n",
    "    base_tree = repo.get_git_tree(master_sha)\n",
    "    element_list = list()\n",
    "    # Loop in list\n",
    "    for i, entry in enumerate(file_list):\n",
    "        with open(entry) as input_file:\n",
    "            data = input_file.read()\n",
    "        if entry.endswith('.png'):\n",
    "            data = base64.b64encode(data)\n",
    "        element = InputGitTreeElement(file_names[i], '100644', 'blob', data)\n",
    "        element_list.append(element)\n",
    "    tree = repo.create_git_tree(element_list, base_tree)\n",
    "    parent = repo.get_git_commit(master_sha)\n",
    "    commit = repo.create_git_commit(commit_message, tree, [parent])\n",
    "    master_ref.edit(commit.sha)"
   ]
  },
  {
   "cell_type": "code",
   "execution_count": 38,
   "metadata": {},
   "outputs": [],
   "source": [
    "filelist = ['Untitled.ipynb']\n",
    "filenames = ['Untitled_1.ipynb']\n",
    "msg=\"test \"\n",
    "publishGitHub(filelist,filenames,msg)"
   ]
  },
  {
   "cell_type": "code",
   "execution_count": 36,
   "metadata": {},
   "outputs": [
    {
     "data": {
      "text/html": [
       "\n",
       "        <iframe\n",
       "            width=\"300\"\n",
       "            height=\"350\"\n",
       "            src=\"http://localhost:8890/view/_CapStone%20Project/Neighborhood_Toronto_Simplified.html\"\n",
       "            frameborder=\"0\"\n",
       "            allowfullscreen\n",
       "        ></iframe>\n",
       "        "
      ],
      "text/plain": [
       "<IPython.lib.display.IFrame at 0x2847ab35a20>"
      ]
     },
     "metadata": {},
     "output_type": "display_data"
    }
   ],
   "source": [
    "import matplotlib.pyplot as plt\n",
    "import matplotlib.image as mpimg\n",
    "from matplotlib import rcParams\n",
    "from IPython.display import IFrame\n",
    "\n",
    "%matplotlib inline\n",
    "url = 'http://localhost:8890/view/_CapStone%20Project/Neighborhood_Toronto_Simplified.html'\n",
    "\n",
    "x1=IFrame(url, width=300, height=350)\n",
    "\n",
    "display(x1)\n"
   ]
  },
  {
   "cell_type": "code",
   "execution_count": null,
   "metadata": {},
   "outputs": [],
   "source": [
    "%%html\n",
    "<iframe src=\"Output Files/Neighborhood_Toronto.html\"width=\"475\" height=\"350\"></iframe><iframe src=\"Neighborhood_Toronto_Simplified.html\" \n",
    "width=\"475\" height=\"350\"></iframe>"
   ]
  },
  {
   "cell_type": "code",
   "execution_count": null,
   "metadata": {},
   "outputs": [],
   "source": [
    "%%html\n",
    "<title>A simple frameset document</title>"
   ]
  },
  {
   "cell_type": "code",
   "execution_count": null,
   "metadata": {},
   "outputs": [],
   "source": [
    "# Read credentials from file\n",
    "FourSqrFile = open(\"Foursquare.txt\", \"r\")\n",
    "\n",
    "for FourSqrlines in FourSqrFile:\n",
    "    if FourSqrlines.find(\"CLIENT_ID\") != -1:\n",
    "        CLIENT_ID = FourSqrlines.replace(\"CLIENT_ID = \",\"\")\n",
    "    elif FourSqrlines.find(\"CLIENT_SECRET\") != -1:\n",
    "        CLIENT_SECRET = FourSqrlines.replace(\"CLIENT_SECRET = \",\"\")\n",
    "    elif FourSqrlines.find(\"VERSION\") != -1:\n",
    "        VERSION = x.replace(\"VERSION = \",\"\")\n",
    "\n",
    "FourSqrFile.close()\n",
    "\n",
    "LIMIT = 100\n",
    "\n",
    "print(CLIENT_ID)\n",
    "print(CLIENT_SECRET)\n",
    "print(VERSION)"
   ]
  },
  {
   "cell_type": "code",
   "execution_count": null,
   "metadata": {},
   "outputs": [],
   "source": []
  }
 ],
 "metadata": {
  "kernelspec": {
   "display_name": "Python 3",
   "language": "python",
   "name": "python3"
  },
  "language_info": {
   "codemirror_mode": {
    "name": "ipython",
    "version": 3
   },
   "file_extension": ".py",
   "mimetype": "text/x-python",
   "name": "python",
   "nbconvert_exporter": "python",
   "pygments_lexer": "ipython3",
   "version": "3.7.3"
  }
 },
 "nbformat": 4,
 "nbformat_minor": 2
}
