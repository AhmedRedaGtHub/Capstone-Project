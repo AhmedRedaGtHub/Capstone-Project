{
    "nbformat_minor": 1, 
    "cells": [
        {
            "source": "<img src=\"https://ibm.box.com/shared/static/cw2c7r3o20w9zn8gkecaeyjhgw3xdgbj.png\" width=\"300\" align=\"left\"><font size=\"6.5\"><h1 align=\"center\">Applied Data Science Capstone</font></h1>", 
            "cell_type": "markdown", 
            "metadata": {
                "collapsed": true
            }
        }, 
        {
            "source": "<h3 align=\"center\"><font size=\"5\">This notebook is intended for the final course in IBM Data Science Professional Certificate.</font></h1>\n<hr style=\"border: dashed rgb(0,0,0) 1.0px;background-color: rgb(0,0,255);height: 3.0px;\"/>", 
            "cell_type": "markdown", 
            "metadata": {}
        }, 
        {
            "source": "## Week 3 - Peer-graded Assignment: Segmenting and Clustering Neighborhoods in Toronto", 
            "cell_type": "markdown", 
            "metadata": {}
        }, 
        {
            "source": "<hr style=\"border: dashed rgb(0,0,0) 1.0px;background-color: rgb(0,0,0);height: 1.0px;\"/>", 
            "cell_type": "markdown", 
            "metadata": {}
        }, 
        {
            "source": "### Part (1) - Build code to scrape Wikipedia page, obtain the data in the table of postal codes and to transform the data into a pandas dataframe", 
            "cell_type": "markdown", 
            "metadata": {}
        }, 
        {
            "source": "For this assignment, you will be required to explore and cluster the neighborhoods in Toronto.\nStart by creating a new Notebook for this assignment.\nUse the Notebook to build the code to scrape the following Wikipedia page, https://en.wikipedia.org/wiki/List_of_postal_codes_of_Canada:_M, in order to obtain the data that is in the table of postal codes and to transform the data into a pandas dataframe", 
            "cell_type": "markdown", 
            "metadata": {}
        }, 
        {
            "source": "# import the library we use to open URLs\nimport urllib.request\n\n# import the BeautifulSoup library so we can parse HTML and XML documents\nfrom bs4 import BeautifulSoup\n\n# import pandas\nimport pandas as pd", 
            "cell_type": "code", 
            "metadata": {}, 
            "outputs": [], 
            "execution_count": 104
        }, 
        {
            "source": "# specify which URL/web page we are going to be scraping\nurl_wiki = \"https://en.wikipedia.org/wiki/List_of_postal_codes_of_Canada:_M\"\n# open the url using urllib.request and put the HTML into the page variable\npage_wiki = urllib.request.urlopen(url_wiki)\n# parse the HTML from our URL into the BeautifulSoup parse tree format\nbs_wiki = BeautifulSoup(page_wiki, \"lxml\")\n\n# use the 'find_all' function to bring back all instances of the 'table' tag in the HTML and store in 'all_tables' variable\ntables_wiki=bs_wiki.find_all(\"table\")", 
            "cell_type": "code", 
            "metadata": {}, 
            "outputs": [], 
            "execution_count": 105
        }, 
        {
            "source": "# Get the Required table\ntable_Pcodes=soup.find('table', class_='wikitable sortable')\n\n# Lists to hold data\nPostalCode=[]\nBorough=[]\nNeighborhood=[]\n\n# Loop & ignore Borough = 'Not assigned'\nfor row in table_Pcodes.findAll('tr'):\n    cells=row.findAll('td')\n    if len(cells) > 0 :\n        # Only process the cells that have an assigned borough. Ignore cells with a borough that is Not assigned.\n        if cells[1].text.strip() != 'Not assigned':\n            PostalCode.append(cells[0].text.strip())\n            Borough.append(cells[1].text.strip())\n            # If a cell has a borough but a Not assigned neighborhood, then the neighborhood will be the same as the borough\n            if cells[2].text.strip() == 'Not assigned':\n                Neighborhood.append(cells[1].text.strip())\n            else:\n                Neighborhood.append(cells[2].text.strip())\n\n# Create dataframe to hold data        \ndf_Pcodes=pd.DataFrame(A,columns=['PostalCode'])\ndf_Pcodes['Borough']=B\ndf_Pcodes['Neighborhood']=C", 
            "cell_type": "code", 
            "metadata": {}, 
            "outputs": [], 
            "execution_count": 108
        }, 
        {
            "source": "# show data\ndf_Pcodes.head(12)", 
            "cell_type": "code", 
            "metadata": {}, 
            "outputs": [
                {
                    "output_type": "execute_result", 
                    "data": {
                        "text/html": "<div>\n<style scoped>\n    .dataframe tbody tr th:only-of-type {\n        vertical-align: middle;\n    }\n\n    .dataframe tbody tr th {\n        vertical-align: top;\n    }\n\n    .dataframe thead th {\n        text-align: right;\n    }\n</style>\n<table border=\"1\" class=\"dataframe\">\n  <thead>\n    <tr style=\"text-align: right;\">\n      <th></th>\n      <th>PostalCode</th>\n      <th>Borough</th>\n      <th>Neighborhood</th>\n    </tr>\n  </thead>\n  <tbody>\n    <tr>\n      <th>0</th>\n      <td>M3A</td>\n      <td>North York</td>\n      <td>Parkwoods</td>\n    </tr>\n    <tr>\n      <th>1</th>\n      <td>M4A</td>\n      <td>North York</td>\n      <td>Victoria Village</td>\n    </tr>\n    <tr>\n      <th>2</th>\n      <td>M5A</td>\n      <td>Downtown Toronto</td>\n      <td>Harbourfront</td>\n    </tr>\n    <tr>\n      <th>3</th>\n      <td>M5A</td>\n      <td>Downtown Toronto</td>\n      <td>Regent Park</td>\n    </tr>\n    <tr>\n      <th>4</th>\n      <td>M6A</td>\n      <td>North York</td>\n      <td>Lawrence Heights</td>\n    </tr>\n    <tr>\n      <th>5</th>\n      <td>M6A</td>\n      <td>North York</td>\n      <td>Lawrence Manor</td>\n    </tr>\n    <tr>\n      <th>6</th>\n      <td>M7A</td>\n      <td>Queen's Park</td>\n      <td>Queen's Park</td>\n    </tr>\n    <tr>\n      <th>7</th>\n      <td>M9A</td>\n      <td>Etobicoke</td>\n      <td>Islington Avenue</td>\n    </tr>\n    <tr>\n      <th>8</th>\n      <td>M1B</td>\n      <td>Scarborough</td>\n      <td>Rouge</td>\n    </tr>\n    <tr>\n      <th>9</th>\n      <td>M1B</td>\n      <td>Scarborough</td>\n      <td>Malvern</td>\n    </tr>\n    <tr>\n      <th>10</th>\n      <td>M3B</td>\n      <td>North York</td>\n      <td>Don Mills North</td>\n    </tr>\n    <tr>\n      <th>11</th>\n      <td>M4B</td>\n      <td>East York</td>\n      <td>Woodbine Gardens</td>\n    </tr>\n  </tbody>\n</table>\n</div>", 
                        "text/plain": "   PostalCode           Borough      Neighborhood\n0         M3A        North York         Parkwoods\n1         M4A        North York  Victoria Village\n2         M5A  Downtown Toronto      Harbourfront\n3         M5A  Downtown Toronto       Regent Park\n4         M6A        North York  Lawrence Heights\n5         M6A        North York    Lawrence Manor\n6         M7A      Queen's Park      Queen's Park\n7         M9A         Etobicoke  Islington Avenue\n8         M1B       Scarborough             Rouge\n9         M1B       Scarborough           Malvern\n10        M3B        North York   Don Mills North\n11        M4B         East York  Woodbine Gardens"
                    }, 
                    "execution_count": 109, 
                    "metadata": {}
                }
            ], 
            "execution_count": 109
        }, 
        {
            "source": "# show data shape\nprint (df_Pcodes.shape)", 
            "cell_type": "code", 
            "metadata": {}, 
            "outputs": [
                {
                    "output_type": "stream", 
                    "name": "stdout", 
                    "text": "(211, 3)\n"
                }
            ], 
            "execution_count": 110
        }, 
        {
            "source": "<hr style=\"border: dashed rgb(0,0,0) 1.0px;background-color: rgb(0,0,0);height: 1.0px;\"/>", 
            "cell_type": "markdown", 
            "metadata": {}
        }, 
        {
            "source": "### Part (2) - Build code to get the latitude and the longitude coordinates of each neighborhood", 
            "cell_type": "markdown", 
            "metadata": {}
        }, 
        {
            "source": "Now that you have built a dataframe of the postal code of each neighborhood along with the borough name and neighborhood name, in order to utilize the Foursquare location data, we need to get the latitude and the longitude coordinates of each neighborhood. ", 
            "cell_type": "markdown", 
            "metadata": {}
        }, 
        {
            "source": "# Checking for Required Packages availability\n\n# Check geocoder\n# try:\n    # import geocoder\n    # print ('geocoder available')\n# except ImportError:\n    # installing geocoder\n    # print ('Installing geocoder')\n    # !conda install -c conda-forge geocoder \n    # print ('geocoder Installed')", 
            "cell_type": "code", 
            "metadata": {}, 
            "outputs": [], 
            "execution_count": 111
        }, 
        {
            "source": "#### Import Geocoder (Note: Install geocoder is working while import generate an error)", 
            "cell_type": "markdown", 
            "metadata": {}
        }, 
        {
            "source": "# Import Geocoder for getting coord.\n# import geocoder\n\n# initialize your variable to None\n#lat_lng_coords = None\n\n# loop until you get the coordinates\n#while(lat_lng_coords is None):\n  #g = geocoder.google('{}, Toronto, Ontario'.format('M3A'))\n  #lat_lng_coords = g.latlng\n\n#latitude = lat_lng_coords[0]\n#longitude = lat_lng_coords[1]", 
            "cell_type": "code", 
            "metadata": {}, 
            "outputs": [], 
            "execution_count": 112
        }, 
        {
            "source": "# Add Coordinates field to new data frame\ndf_coord = df_Pcodes\ndf_coord.head(5)", 
            "cell_type": "code", 
            "metadata": {}, 
            "outputs": [
                {
                    "output_type": "execute_result", 
                    "data": {
                        "text/html": "<div>\n<style scoped>\n    .dataframe tbody tr th:only-of-type {\n        vertical-align: middle;\n    }\n\n    .dataframe tbody tr th {\n        vertical-align: top;\n    }\n\n    .dataframe thead th {\n        text-align: right;\n    }\n</style>\n<table border=\"1\" class=\"dataframe\">\n  <thead>\n    <tr style=\"text-align: right;\">\n      <th></th>\n      <th>PostalCode</th>\n      <th>Borough</th>\n      <th>Neighborhood</th>\n    </tr>\n  </thead>\n  <tbody>\n    <tr>\n      <th>0</th>\n      <td>M3A</td>\n      <td>North York</td>\n      <td>Parkwoods</td>\n    </tr>\n    <tr>\n      <th>1</th>\n      <td>M4A</td>\n      <td>North York</td>\n      <td>Victoria Village</td>\n    </tr>\n    <tr>\n      <th>2</th>\n      <td>M5A</td>\n      <td>Downtown Toronto</td>\n      <td>Harbourfront</td>\n    </tr>\n    <tr>\n      <th>3</th>\n      <td>M5A</td>\n      <td>Downtown Toronto</td>\n      <td>Regent Park</td>\n    </tr>\n    <tr>\n      <th>4</th>\n      <td>M6A</td>\n      <td>North York</td>\n      <td>Lawrence Heights</td>\n    </tr>\n  </tbody>\n</table>\n</div>", 
                        "text/plain": "  PostalCode           Borough      Neighborhood\n0        M3A        North York         Parkwoods\n1        M4A        North York  Victoria Village\n2        M5A  Downtown Toronto      Harbourfront\n3        M5A  Downtown Toronto       Regent Park\n4        M6A        North York  Lawrence Heights"
                    }, 
                    "execution_count": 113, 
                    "metadata": {}
                }
            ], 
            "execution_count": 113
        }, 
        {
            "source": "#### Alternative option (Note: Reading from file as geocoder failed)", 
            "cell_type": "markdown", 
            "metadata": {}
        }, 
        {
            "source": "Given that this package can be very unreliable, in case you are not able to get the geographical coordinates of the neighborhoods using the Geocoder package, here is a link to a csv file that has the geographical coordinates of each postal code: http://cocl.us/Geospatial_data", 
            "cell_type": "markdown", 
            "metadata": {}
        }, 
        {
            "source": "# Lets download the dataset\n!wget -O Geospatial_Coordinates.csv https://cocl.us/Geospatial_data/Geospatial_Coordinates.csv\n\n# Load Data From CSV File  \ndf_csv = pd.read_csv('Geospatial_Coordinates.csv')\ndf_csv.head()", 
            "cell_type": "code", 
            "metadata": {}, 
            "outputs": [
                {
                    "output_type": "stream", 
                    "name": "stdout", 
                    "text": "--2019-07-07 18:58:53--  https://cocl.us/Geospatial_data/Geospatial_Coordinates.csv\nResolving cocl.us (cocl.us)... 159.8.72.228\nConnecting to cocl.us (cocl.us)|159.8.72.228|:443... connected.\nHTTP request sent, awaiting response... 301 Moved Permanently\nLocation: https://ibm.box.com/shared/static/9afzr83pps4pwf2smjjcf1y5mvgb18rr.csv [following]\n--2019-07-07 18:58:57--  https://ibm.box.com/shared/static/9afzr83pps4pwf2smjjcf1y5mvgb18rr.csv\nResolving ibm.box.com (ibm.box.com)... 185.235.236.197\nConnecting to ibm.box.com (ibm.box.com)|185.235.236.197|:443... connected.\nHTTP request sent, awaiting response... 301 Moved Permanently\nLocation: /public/static/9afzr83pps4pwf2smjjcf1y5mvgb18rr.csv [following]\n--2019-07-07 18:58:58--  https://ibm.box.com/public/static/9afzr83pps4pwf2smjjcf1y5mvgb18rr.csv\nReusing existing connection to ibm.box.com:443.\nHTTP request sent, awaiting response... 301 Moved Permanently\nLocation: https://ibm.ent.box.com/public/static/9afzr83pps4pwf2smjjcf1y5mvgb18rr.csv [following]\n--2019-07-07 18:58:58--  https://ibm.ent.box.com/public/static/9afzr83pps4pwf2smjjcf1y5mvgb18rr.csv\nResolving ibm.ent.box.com (ibm.ent.box.com)... 185.235.236.211\nConnecting to ibm.ent.box.com (ibm.ent.box.com)|185.235.236.211|:443... connected.\nHTTP request sent, awaiting response... 302 Found\nLocation: https://public.boxcloud.com/d/1/b1!U1usa2C8x1ELljKE8UN6Rd38hJw2nGt8g8jX-Zo9n94hxbc7_xadrDCP1t1DPUSnVwR1BcbJ-7eqFwgToZWX4tMKCjDs3kbSNRM0fx1GfYnbqFQMcIAHOQ3oBRzUlVzGkiYdWTbB-z1vzoYv4yc0Rrwp6YzdG6nG3TsKAZTg_uKgtFDaZJZeeZKmhkQjT2fgKgXEYi0VtTJ7CBc2ZfWoqQv2wNc9x3I_l-dVHES7i-YHLzvpr5rC83I27GxVUtT3a8z3grWwjPI0G6-ABWM7_4NSLKYS6J5A1VbFY2dR9BPlPhLceQh6ewVevrefHRhQEpB_ADlgOI0JCT087u5sYQnCyCbGENcEx-VF6r5edhbDVkWTth6LVpPzTFougeO853F_dwhe2Ls0V5XAtyeE0cBN6WQM6NxDDNycFyLN1v1VNoVJC5l4qnCnhdEetXCrMOLVh_KUIW6U13fz0PyyJTwfoTKtem5t8YJOHpI8td6NC2WoF9pgvGffh8wRTwB8Txuc0mbe8ZlmDnKk4zTZkAKlDgFU_YArfJmgFPtW6tdEOpycQRD1nlKIWfGMFAqUjMJ0pG0ht9HZczB_OcZLCIr_DeDbRIZQfJFplqUf9Uk6clShvIbwZdajIzRd7EayUtp2zs2RNSGDpxiS3N0f4kT4iWuZcVABsbdbH8V5FawzTAJuYWXAeDEJ3hiLwmy12Ws9R1jnkZ6Qx9AI9GoasQ0kuNQDuKWUkBUi-KbcDCv-g7Ts59Qh0SICLrC7jJGD721pcu1ikzPlUGKmH6MJ_9EixBrwDR7b1CFMmLD9V4GsiuzniQlDOQnwTLyWxNw3h3f9B-gHS4SWGhoxsEab6zsQNlJK_kVAy4wsNF2SysxMKmcbRFwzIrNUyXcfHBRuPp_A_PwKslja4A_FJE5YG4kv8jj2N28DjPHZKhjWNTeLANIvzJSdoIVDu0QPAKS94YTyybyFlxpmnz2hu6TvnK_bxibHTKNAswLVwuHRgpvVFWRMJQ0AlRejSCA2dcp-wYV2Qb_EqI0Ig61FWlm8l5myZQVO-l__l_A6IUaCwE1gqxY1-vHbtPiqVLjxe7tQmg31SGM2dkTg75UqM0v5TRpISq6GltNcm--ki86byeo1Ccs-iYrNVAfl1G3Po8cqgKthX1Wt5eWr6bLWysk5Rjveo062tMVaL89ez9DjIOkQRWI9G57vKHwXgNIbed592Gq4NlfdoKkXdXwMKBNaaH1HBAjOo0_GA9Yu-qxAbieoOVCj_YR4hINXTf_eck0mDTG86rvkZXT91RLgPv1SKZiPPQXqqXFYqXxBeFamkJQ4aGXbjDKhLTwnlIWiWaOMZQTgmzki7crPogtW3ES-NJGWjX1Je5UUWgACiRC_dzrgdCt1SyPgaUdmsA../download [following]\n--2019-07-07 18:58:59--  https://public.boxcloud.com/d/1/b1!U1usa2C8x1ELljKE8UN6Rd38hJw2nGt8g8jX-Zo9n94hxbc7_xadrDCP1t1DPUSnVwR1BcbJ-7eqFwgToZWX4tMKCjDs3kbSNRM0fx1GfYnbqFQMcIAHOQ3oBRzUlVzGkiYdWTbB-z1vzoYv4yc0Rrwp6YzdG6nG3TsKAZTg_uKgtFDaZJZeeZKmhkQjT2fgKgXEYi0VtTJ7CBc2ZfWoqQv2wNc9x3I_l-dVHES7i-YHLzvpr5rC83I27GxVUtT3a8z3grWwjPI0G6-ABWM7_4NSLKYS6J5A1VbFY2dR9BPlPhLceQh6ewVevrefHRhQEpB_ADlgOI0JCT087u5sYQnCyCbGENcEx-VF6r5edhbDVkWTth6LVpPzTFougeO853F_dwhe2Ls0V5XAtyeE0cBN6WQM6NxDDNycFyLN1v1VNoVJC5l4qnCnhdEetXCrMOLVh_KUIW6U13fz0PyyJTwfoTKtem5t8YJOHpI8td6NC2WoF9pgvGffh8wRTwB8Txuc0mbe8ZlmDnKk4zTZkAKlDgFU_YArfJmgFPtW6tdEOpycQRD1nlKIWfGMFAqUjMJ0pG0ht9HZczB_OcZLCIr_DeDbRIZQfJFplqUf9Uk6clShvIbwZdajIzRd7EayUtp2zs2RNSGDpxiS3N0f4kT4iWuZcVABsbdbH8V5FawzTAJuYWXAeDEJ3hiLwmy12Ws9R1jnkZ6Qx9AI9GoasQ0kuNQDuKWUkBUi-KbcDCv-g7Ts59Qh0SICLrC7jJGD721pcu1ikzPlUGKmH6MJ_9EixBrwDR7b1CFMmLD9V4GsiuzniQlDOQnwTLyWxNw3h3f9B-gHS4SWGhoxsEab6zsQNlJK_kVAy4wsNF2SysxMKmcbRFwzIrNUyXcfHBRuPp_A_PwKslja4A_FJE5YG4kv8jj2N28DjPHZKhjWNTeLANIvzJSdoIVDu0QPAKS94YTyybyFlxpmnz2hu6TvnK_bxibHTKNAswLVwuHRgpvVFWRMJQ0AlRejSCA2dcp-wYV2Qb_EqI0Ig61FWlm8l5myZQVO-l__l_A6IUaCwE1gqxY1-vHbtPiqVLjxe7tQmg31SGM2dkTg75UqM0v5TRpISq6GltNcm--ki86byeo1Ccs-iYrNVAfl1G3Po8cqgKthX1Wt5eWr6bLWysk5Rjveo062tMVaL89ez9DjIOkQRWI9G57vKHwXgNIbed592Gq4NlfdoKkXdXwMKBNaaH1HBAjOo0_GA9Yu-qxAbieoOVCj_YR4hINXTf_eck0mDTG86rvkZXT91RLgPv1SKZiPPQXqqXFYqXxBeFamkJQ4aGXbjDKhLTwnlIWiWaOMZQTgmzki7crPogtW3ES-NJGWjX1Je5UUWgACiRC_dzrgdCt1SyPgaUdmsA../download\nResolving public.boxcloud.com (public.boxcloud.com)... 107.152.27.200\nConnecting to public.boxcloud.com (public.boxcloud.com)|107.152.27.200|:443... connected.\nHTTP request sent, awaiting response... 200 OK\nLength: 2891 (2.8K) [text/csv]\nSaving to: \u2018Geospatial_Coordinates.csv\u2019\n\n100%[======================================>] 2,891       --.-K/s   in 0s      \n\n2019-07-07 18:59:00 (413 MB/s) - \u2018Geospatial_Coordinates.csv\u2019 saved [2891/2891]\n\n"
                }, 
                {
                    "output_type": "execute_result", 
                    "data": {
                        "text/html": "<div>\n<style scoped>\n    .dataframe tbody tr th:only-of-type {\n        vertical-align: middle;\n    }\n\n    .dataframe tbody tr th {\n        vertical-align: top;\n    }\n\n    .dataframe thead th {\n        text-align: right;\n    }\n</style>\n<table border=\"1\" class=\"dataframe\">\n  <thead>\n    <tr style=\"text-align: right;\">\n      <th></th>\n      <th>Postal Code</th>\n      <th>Latitude</th>\n      <th>Longitude</th>\n    </tr>\n  </thead>\n  <tbody>\n    <tr>\n      <th>0</th>\n      <td>M1B</td>\n      <td>43.806686</td>\n      <td>-79.194353</td>\n    </tr>\n    <tr>\n      <th>1</th>\n      <td>M1C</td>\n      <td>43.784535</td>\n      <td>-79.160497</td>\n    </tr>\n    <tr>\n      <th>2</th>\n      <td>M1E</td>\n      <td>43.763573</td>\n      <td>-79.188711</td>\n    </tr>\n    <tr>\n      <th>3</th>\n      <td>M1G</td>\n      <td>43.770992</td>\n      <td>-79.216917</td>\n    </tr>\n    <tr>\n      <th>4</th>\n      <td>M1H</td>\n      <td>43.773136</td>\n      <td>-79.239476</td>\n    </tr>\n  </tbody>\n</table>\n</div>", 
                        "text/plain": "  Postal Code   Latitude  Longitude\n0         M1B  43.806686 -79.194353\n1         M1C  43.784535 -79.160497\n2         M1E  43.763573 -79.188711\n3         M1G  43.770992 -79.216917\n4         M1H  43.773136 -79.239476"
                    }, 
                    "execution_count": 116, 
                    "metadata": {}
                }
            ], 
            "execution_count": 116
        }, 
        {
            "source": "# Get the Long & Lat from the csv file and append it to main dataframe\ndf_final = pd.merge(df_coord, df_csv, how='inner', left_on = 'PostalCode', right_on = 'Postal Code')\n\ndf_final.drop(['Postal Code'], axis = 1,inplace=True)\ndf_final.head(10)", 
            "cell_type": "code", 
            "metadata": {}, 
            "outputs": [
                {
                    "output_type": "execute_result", 
                    "data": {
                        "text/html": "<div>\n<style scoped>\n    .dataframe tbody tr th:only-of-type {\n        vertical-align: middle;\n    }\n\n    .dataframe tbody tr th {\n        vertical-align: top;\n    }\n\n    .dataframe thead th {\n        text-align: right;\n    }\n</style>\n<table border=\"1\" class=\"dataframe\">\n  <thead>\n    <tr style=\"text-align: right;\">\n      <th></th>\n      <th>PostalCode</th>\n      <th>Borough</th>\n      <th>Neighborhood</th>\n      <th>Latitude</th>\n      <th>Longitude</th>\n    </tr>\n  </thead>\n  <tbody>\n    <tr>\n      <th>0</th>\n      <td>M3A</td>\n      <td>North York</td>\n      <td>Parkwoods</td>\n      <td>43.753259</td>\n      <td>-79.329656</td>\n    </tr>\n    <tr>\n      <th>1</th>\n      <td>M4A</td>\n      <td>North York</td>\n      <td>Victoria Village</td>\n      <td>43.725882</td>\n      <td>-79.315572</td>\n    </tr>\n    <tr>\n      <th>2</th>\n      <td>M5A</td>\n      <td>Downtown Toronto</td>\n      <td>Harbourfront</td>\n      <td>43.654260</td>\n      <td>-79.360636</td>\n    </tr>\n    <tr>\n      <th>3</th>\n      <td>M5A</td>\n      <td>Downtown Toronto</td>\n      <td>Regent Park</td>\n      <td>43.654260</td>\n      <td>-79.360636</td>\n    </tr>\n    <tr>\n      <th>4</th>\n      <td>M6A</td>\n      <td>North York</td>\n      <td>Lawrence Heights</td>\n      <td>43.718518</td>\n      <td>-79.464763</td>\n    </tr>\n    <tr>\n      <th>5</th>\n      <td>M6A</td>\n      <td>North York</td>\n      <td>Lawrence Manor</td>\n      <td>43.718518</td>\n      <td>-79.464763</td>\n    </tr>\n    <tr>\n      <th>6</th>\n      <td>M7A</td>\n      <td>Queen's Park</td>\n      <td>Queen's Park</td>\n      <td>43.662301</td>\n      <td>-79.389494</td>\n    </tr>\n    <tr>\n      <th>7</th>\n      <td>M9A</td>\n      <td>Etobicoke</td>\n      <td>Islington Avenue</td>\n      <td>43.667856</td>\n      <td>-79.532242</td>\n    </tr>\n    <tr>\n      <th>8</th>\n      <td>M1B</td>\n      <td>Scarborough</td>\n      <td>Rouge</td>\n      <td>43.806686</td>\n      <td>-79.194353</td>\n    </tr>\n    <tr>\n      <th>9</th>\n      <td>M1B</td>\n      <td>Scarborough</td>\n      <td>Malvern</td>\n      <td>43.806686</td>\n      <td>-79.194353</td>\n    </tr>\n  </tbody>\n</table>\n</div>", 
                        "text/plain": "  PostalCode           Borough      Neighborhood   Latitude  Longitude\n0        M3A        North York         Parkwoods  43.753259 -79.329656\n1        M4A        North York  Victoria Village  43.725882 -79.315572\n2        M5A  Downtown Toronto      Harbourfront  43.654260 -79.360636\n3        M5A  Downtown Toronto       Regent Park  43.654260 -79.360636\n4        M6A        North York  Lawrence Heights  43.718518 -79.464763\n5        M6A        North York    Lawrence Manor  43.718518 -79.464763\n6        M7A      Queen's Park      Queen's Park  43.662301 -79.389494\n7        M9A         Etobicoke  Islington Avenue  43.667856 -79.532242\n8        M1B       Scarborough             Rouge  43.806686 -79.194353\n9        M1B       Scarborough           Malvern  43.806686 -79.194353"
                    }, 
                    "execution_count": 117, 
                    "metadata": {}
                }
            ], 
            "execution_count": 117
        }, 
        {
            "source": "<hr style=\"border: dashed rgb(0,0,0) 1.0px;background-color: rgb(0,0,0);height: 1.0px;\"/>", 
            "cell_type": "markdown", 
            "metadata": {}
        }, 
        {
            "source": "### Part (3) - Explore and cluster the neighborhoods in Toronto", 
            "cell_type": "markdown", 
            "metadata": {}
        }, 
        {
            "source": "Explore and cluster the neighborhoods in Toronto. You can decide to work with only boroughs that contain the word Toronto and then replicate the same analysis we did to the New York City data. It is up to you. \nJust make sure:\n\n1- to add enough Markdown cells to explain what you decided to do and to report any observations you make. \n\n2- to generate maps to visualize your neighborhoods and how they cluster together. ", 
            "cell_type": "markdown", 
            "metadata": {}
        }, 
        {
            "source": "", 
            "cell_type": "code", 
            "metadata": {}, 
            "outputs": [], 
            "execution_count": null
        }
    ], 
    "metadata": {
        "kernelspec": {
            "display_name": "Python 3.6", 
            "name": "python3", 
            "language": "python"
        }, 
        "language_info": {
            "mimetype": "text/x-python", 
            "nbconvert_exporter": "python", 
            "version": "3.6.8", 
            "name": "python", 
            "pygments_lexer": "ipython3", 
            "file_extension": ".py", 
            "codemirror_mode": {
                "version": 3, 
                "name": "ipython"
            }
        }
    }, 
    "nbformat": 4
}