{
    "nbformat_minor": 1, 
    "cells": [
        {
            "source": "<img src=\"https://ibm.box.com/shared/static/cw2c7r3o20w9zn8gkecaeyjhgw3xdgbj.png\" width=\"300\" align=\"left\"><font size=\"6.5\"><h1 align=\"center\">Applied Data Science Capstone</font></h1>", 
            "cell_type": "markdown", 
            "metadata": {
                "collapsed": true
            }
        }, 
        {
            "source": "<h3 align=\"center\"><font size=\"5\">This notebook is intended for the final course in IBM Data Science Professional Certificate.</font></h1>\n<hr style=\"border: dashed rgb(0,0,0) 1.0px;background-color: rgb(0,0,255);height: 3.0px;\"/>", 
            "cell_type": "markdown", 
            "metadata": {}
        }, 
        {
            "source": "## Week 1 - Peer-graded Assignment: Capstone Project Notebook", 
            "cell_type": "markdown", 
            "metadata": {}
        }, 
        {
            "source": "Assignment:\n\n1- Write some markdown to explain that this notebook will be mainly used for the capstone project.\n\n2- Import the pandas library as pd.\n\n3- Import the Numpy library as np.\n\n4- Print the following the statement: Hello Capstone Project Course!\n\nPush the Notebook to your Github repository and submit a link to the notebook on your Github repository.", 
            "cell_type": "markdown", 
            "metadata": {}
        }, 
        {
            "source": "# Import Required libraries\nimport numpy as np\nimport pandas as pd\n\nprint('Hello Capstone Project Course!')", 
            "cell_type": "code", 
            "metadata": {}, 
            "outputs": [
                {
                    "output_type": "stream", 
                    "name": "stdout", 
                    "text": "Hello Capstone Project Course!\n"
                }
            ], 
            "execution_count": 55
        }, 
        {
            "source": "<hr style=\"border: dashed rgb(0,0,0) 1.0px;background-color: rgb(0,0,255);height: 3.0px;\"/>", 
            "cell_type": "markdown", 
            "metadata": {}
        }, 
        {
            "source": "## Week 3 - Peer-graded Assignment: Segmenting and Clustering Neighborhoods in Toronto", 
            "cell_type": "markdown", 
            "metadata": {}
        }, 
        {
            "source": "For this assignment, you will be required to explore and cluster the neighborhoods in Toronto.\nStart by creating a new Notebook for this assignment.\nUse the Notebook to build the code to scrape the following Wikipedia page, https://en.wikipedia.org/wiki/List_of_postal_codes_of_Canada:_M, in order to obtain the data that is in the table of postal codes and to transform the data into a pandas dataframe", 
            "cell_type": "markdown", 
            "metadata": {}
        }, 
        {
            "source": "# import the library we use to open URLs\nimport urllib.request\n\n# import the BeautifulSoup library so we can parse HTML and XML documents\nfrom bs4 import BeautifulSoup\n\n# import pandas\nimport pandas as pd", 
            "cell_type": "code", 
            "metadata": {}, 
            "outputs": [], 
            "execution_count": 56
        }, 
        {
            "source": "# specify which URL/web page we are going to be scraping\nurl_wiki = \"https://en.wikipedia.org/wiki/List_of_postal_codes_of_Canada:_M\"\n# open the url using urllib.request and put the HTML into the page variable\npage_wiki = urllib.request.urlopen(url_wiki)\n# parse the HTML from our URL into the BeautifulSoup parse tree format\nbs_wiki = BeautifulSoup(page_wiki, \"lxml\")\n\n# use the 'find_all' function to bring back all instances of the 'table' tag in the HTML and store in 'all_tables' variable\ntables_wiki=bs_wiki.find_all(\"table\")", 
            "cell_type": "code", 
            "metadata": {}, 
            "outputs": [], 
            "execution_count": 57
        }, 
        {
            "source": "# Get the Required table\ntable_Pcodes=soup.find('table', class_='wikitable sortable')\n\n# Lists to hold data\nPostalCode=[]\nBorough=[]\nNeighborhood=[]\n\n# Loop & ignore Borough = 'Not assigned'\nfor row in table_Pcodes.findAll('tr'):\n    cells=row.findAll('td')\n    if len(cells) > 0 :\n        # Only process the cells that have an assigned borough. Ignore cells with a borough that is Not assigned.\n        if cells[1].text.strip() != 'Not assigned':\n            PostalCode.append(cells[0].text.strip())\n            Borough.append(cells[1].text.strip())\n            # If a cell has a borough but a Not assigned neighborhood, then the neighborhood will be the same as the borough\n            if cells[2].text.strip() == 'Not assigned':\n                Neighborhood.append(cells[1].text.strip())\n            else:\n                Neighborhood.append(cells[2].text.strip())\n\n# Create dataframe to hold data        \ndf_Pcodes=pd.DataFrame(A,columns=['PostalCode'])\ndf_Pcodes['Borough']=B\ndf_Pcodes['Neighborhood']=C", 
            "cell_type": "code", 
            "metadata": {}, 
            "outputs": [], 
            "execution_count": 58
        }, 
        {
            "source": "# show data\ndf.head(12)", 
            "cell_type": "code", 
            "metadata": {}, 
            "outputs": [
                {
                    "output_type": "execute_result", 
                    "data": {
                        "text/html": "<div>\n<style scoped>\n    .dataframe tbody tr th:only-of-type {\n        vertical-align: middle;\n    }\n\n    .dataframe tbody tr th {\n        vertical-align: top;\n    }\n\n    .dataframe thead th {\n        text-align: right;\n    }\n</style>\n<table border=\"1\" class=\"dataframe\">\n  <thead>\n    <tr style=\"text-align: right;\">\n      <th></th>\n      <th>PostalCode</th>\n      <th>Borough</th>\n      <th>Neighborhood</th>\n    </tr>\n  </thead>\n  <tbody>\n    <tr>\n      <th>0</th>\n      <td>M3A</td>\n      <td>North York</td>\n      <td>Parkwoods</td>\n    </tr>\n    <tr>\n      <th>1</th>\n      <td>M4A</td>\n      <td>North York</td>\n      <td>Victoria Village</td>\n    </tr>\n    <tr>\n      <th>2</th>\n      <td>M5A</td>\n      <td>Downtown Toronto</td>\n      <td>Harbourfront</td>\n    </tr>\n    <tr>\n      <th>3</th>\n      <td>M5A</td>\n      <td>Downtown Toronto</td>\n      <td>Regent Park</td>\n    </tr>\n    <tr>\n      <th>4</th>\n      <td>M6A</td>\n      <td>North York</td>\n      <td>Lawrence Heights</td>\n    </tr>\n    <tr>\n      <th>5</th>\n      <td>M6A</td>\n      <td>North York</td>\n      <td>Lawrence Manor</td>\n    </tr>\n    <tr>\n      <th>6</th>\n      <td>M7A</td>\n      <td>Queen's Park</td>\n      <td>Queen's Park</td>\n    </tr>\n    <tr>\n      <th>7</th>\n      <td>M9A</td>\n      <td>Etobicoke</td>\n      <td>Islington Avenue</td>\n    </tr>\n    <tr>\n      <th>8</th>\n      <td>M1B</td>\n      <td>Scarborough</td>\n      <td>Rouge</td>\n    </tr>\n    <tr>\n      <th>9</th>\n      <td>M1B</td>\n      <td>Scarborough</td>\n      <td>Malvern</td>\n    </tr>\n    <tr>\n      <th>10</th>\n      <td>M3B</td>\n      <td>North York</td>\n      <td>Don Mills North</td>\n    </tr>\n    <tr>\n      <th>11</th>\n      <td>M4B</td>\n      <td>East York</td>\n      <td>Woodbine Gardens</td>\n    </tr>\n  </tbody>\n</table>\n</div>", 
                        "text/plain": "   PostalCode           Borough      Neighborhood\n0         M3A        North York         Parkwoods\n1         M4A        North York  Victoria Village\n2         M5A  Downtown Toronto      Harbourfront\n3         M5A  Downtown Toronto       Regent Park\n4         M6A        North York  Lawrence Heights\n5         M6A        North York    Lawrence Manor\n6         M7A      Queen's Park      Queen's Park\n7         M9A         Etobicoke  Islington Avenue\n8         M1B       Scarborough             Rouge\n9         M1B       Scarborough           Malvern\n10        M3B        North York   Don Mills North\n11        M4B         East York  Woodbine Gardens"
                    }, 
                    "execution_count": 59, 
                    "metadata": {}
                }
            ], 
            "execution_count": 59
        }, 
        {
            "source": "# show data shape\nprint (df.shape)", 
            "cell_type": "code", 
            "metadata": {}, 
            "outputs": [
                {
                    "output_type": "stream", 
                    "name": "stdout", 
                    "text": "(211, 3)\n"
                }
            ], 
            "execution_count": 60
        }, 
        {
            "source": "", 
            "cell_type": "code", 
            "metadata": {}, 
            "outputs": [], 
            "execution_count": null
        }
    ], 
    "metadata": {
        "kernelspec": {
            "display_name": "Python 3.6", 
            "name": "python3", 
            "language": "python"
        }, 
        "language_info": {
            "mimetype": "text/x-python", 
            "nbconvert_exporter": "python", 
            "version": "3.6.8", 
            "name": "python", 
            "pygments_lexer": "ipython3", 
            "file_extension": ".py", 
            "codemirror_mode": {
                "version": 3, 
                "name": "ipython"
            }
        }
    }, 
    "nbformat": 4
}